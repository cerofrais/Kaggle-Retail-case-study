{
 "cells": [
  {
   "cell_type": "code",
   "execution_count": 1,
   "metadata": {},
   "outputs": [],
   "source": [
    "import pandas as pd\n",
    "import numpy as np\n",
    "import matplotlib.pyplot as plt\n",
    "from sklearn.linear_model import LinearRegression \n",
    "from sklearn.metrics import mean_squared_error\n",
    "from sklearn.model_selection import train_test_split\n",
    "from sklearn.preprocessing import PolynomialFeatures\n",
    "from sklearn import linear_model\n",
    "from sklearn.pipeline import Pipeline\n",
    "from sklearn.svm import SVR"
   ]
  },
  {
   "cell_type": "code",
   "execution_count": 2,
   "metadata": {},
   "outputs": [
    {
     "data": {
      "text/html": [
       "<div>\n",
       "<style scoped>\n",
       "    .dataframe tbody tr th:only-of-type {\n",
       "        vertical-align: middle;\n",
       "    }\n",
       "\n",
       "    .dataframe tbody tr th {\n",
       "        vertical-align: top;\n",
       "    }\n",
       "\n",
       "    .dataframe thead th {\n",
       "        text-align: right;\n",
       "    }\n",
       "</style>\n",
       "<table border=\"1\" class=\"dataframe\">\n",
       "  <thead>\n",
       "    <tr style=\"text-align: right;\">\n",
       "      <th></th>\n",
       "      <th>Year</th>\n",
       "      <th>Month</th>\n",
       "      <th>ProductCategory</th>\n",
       "      <th>Sales(In ThousandDollars)</th>\n",
       "    </tr>\n",
       "  </thead>\n",
       "  <tbody>\n",
       "    <tr>\n",
       "      <th>0</th>\n",
       "      <td>2009</td>\n",
       "      <td>1</td>\n",
       "      <td>WomenClothing</td>\n",
       "      <td>1755.0</td>\n",
       "    </tr>\n",
       "    <tr>\n",
       "      <th>1</th>\n",
       "      <td>2009</td>\n",
       "      <td>1</td>\n",
       "      <td>MenClothing</td>\n",
       "      <td>524.0</td>\n",
       "    </tr>\n",
       "    <tr>\n",
       "      <th>2</th>\n",
       "      <td>2009</td>\n",
       "      <td>1</td>\n",
       "      <td>OtherClothing</td>\n",
       "      <td>936.0</td>\n",
       "    </tr>\n",
       "    <tr>\n",
       "      <th>3</th>\n",
       "      <td>2009</td>\n",
       "      <td>2</td>\n",
       "      <td>WomenClothing</td>\n",
       "      <td>1729.0</td>\n",
       "    </tr>\n",
       "    <tr>\n",
       "      <th>4</th>\n",
       "      <td>2009</td>\n",
       "      <td>2</td>\n",
       "      <td>MenClothing</td>\n",
       "      <td>496.0</td>\n",
       "    </tr>\n",
       "  </tbody>\n",
       "</table>\n",
       "</div>"
      ],
      "text/plain": [
       "   Year  Month ProductCategory  Sales(In ThousandDollars)\n",
       "0  2009      1   WomenClothing                     1755.0\n",
       "1  2009      1     MenClothing                      524.0\n",
       "2  2009      1   OtherClothing                      936.0\n",
       "3  2009      2   WomenClothing                     1729.0\n",
       "4  2009      2     MenClothing                      496.0"
      ]
     },
     "execution_count": 2,
     "metadata": {},
     "output_type": "execute_result"
    }
   ],
   "source": [
    "train_d=pd.read_csv('Train_Kaggle.csv')\n",
    "df=pd.read_csv('Train_Kaggle.csv')\n",
    "train_d.head()"
   ]
  },
  {
   "cell_type": "code",
   "execution_count": 3,
   "metadata": {},
   "outputs": [],
   "source": [
    "## replace nan with mean of month in all years #Not good\n",
    "##https://chrisalbon.com/python/data_wrangling/pandas_missing_data/\n",
    "#train_d[\"Sales(In ThousandDollars)\"].fillna(train_d.groupby(\"Month\")[\"Sales(In ThousandDollars)\"].transform(\"mean\"), inplace=True)"
   ]
  },
  {
   "cell_type": "code",
   "execution_count": 4,
   "metadata": {},
   "outputs": [],
   "source": [
    "#Droping all nan\n",
    "train_d=train_d.dropna()"
   ]
  },
  {
   "cell_type": "code",
   "execution_count": 5,
   "metadata": {},
   "outputs": [],
   "source": [
    "#train_d[train_d['Month']==4]"
   ]
  },
  {
   "cell_type": "code",
   "execution_count": 6,
   "metadata": {
    "scrolled": true
   },
   "outputs": [
    {
     "data": {
      "text/html": [
       "<div>\n",
       "<style scoped>\n",
       "    .dataframe tbody tr th:only-of-type {\n",
       "        vertical-align: middle;\n",
       "    }\n",
       "\n",
       "    .dataframe tbody tr th {\n",
       "        vertical-align: top;\n",
       "    }\n",
       "\n",
       "    .dataframe thead th {\n",
       "        text-align: right;\n",
       "    }\n",
       "</style>\n",
       "<table border=\"1\" class=\"dataframe\">\n",
       "  <thead>\n",
       "    <tr style=\"text-align: right;\">\n",
       "      <th></th>\n",
       "      <th>Year</th>\n",
       "      <th>Month</th>\n",
       "      <th>Sales(In ThousandDollars)</th>\n",
       "    </tr>\n",
       "  </thead>\n",
       "  <tbody>\n",
       "    <tr>\n",
       "      <th>0</th>\n",
       "      <td>2009</td>\n",
       "      <td>1</td>\n",
       "      <td>1755.0</td>\n",
       "    </tr>\n",
       "    <tr>\n",
       "      <th>3</th>\n",
       "      <td>2009</td>\n",
       "      <td>2</td>\n",
       "      <td>1729.0</td>\n",
       "    </tr>\n",
       "    <tr>\n",
       "      <th>6</th>\n",
       "      <td>2009</td>\n",
       "      <td>3</td>\n",
       "      <td>2256.0</td>\n",
       "    </tr>\n",
       "    <tr>\n",
       "      <th>9</th>\n",
       "      <td>2009</td>\n",
       "      <td>4</td>\n",
       "      <td>2662.0</td>\n",
       "    </tr>\n",
       "    <tr>\n",
       "      <th>12</th>\n",
       "      <td>2009</td>\n",
       "      <td>5</td>\n",
       "      <td>2732.0</td>\n",
       "    </tr>\n",
       "  </tbody>\n",
       "</table>\n",
       "</div>"
      ],
      "text/plain": [
       "    Year  Month  Sales(In ThousandDollars)\n",
       "0   2009      1                     1755.0\n",
       "3   2009      2                     1729.0\n",
       "6   2009      3                     2256.0\n",
       "9   2009      4                     2662.0\n",
       "12  2009      5                     2732.0"
      ]
     },
     "execution_count": 6,
     "metadata": {},
     "output_type": "execute_result"
    }
   ],
   "source": [
    "WC=train_d[train_d['ProductCategory']=='WomenClothing']\n",
    "WC=WC.drop(['ProductCategory'],axis=1)\n",
    "WC.head()\n",
    "\n",
    "#plt.plot(WC['Month'],WC['Sales(In ThousandDollars)'])"
   ]
  },
  {
   "cell_type": "code",
   "execution_count": 7,
   "metadata": {},
   "outputs": [
    {
     "data": {
      "text/html": [
       "<div>\n",
       "<style scoped>\n",
       "    .dataframe tbody tr th:only-of-type {\n",
       "        vertical-align: middle;\n",
       "    }\n",
       "\n",
       "    .dataframe tbody tr th {\n",
       "        vertical-align: top;\n",
       "    }\n",
       "\n",
       "    .dataframe thead th {\n",
       "        text-align: right;\n",
       "    }\n",
       "</style>\n",
       "<table border=\"1\" class=\"dataframe\">\n",
       "  <thead>\n",
       "    <tr style=\"text-align: right;\">\n",
       "      <th></th>\n",
       "      <th>Year</th>\n",
       "      <th>Month</th>\n",
       "      <th>Sales(In ThousandDollars)</th>\n",
       "      <th>Y-M</th>\n",
       "    </tr>\n",
       "  </thead>\n",
       "  <tbody>\n",
       "    <tr>\n",
       "      <th>0</th>\n",
       "      <td>2009</td>\n",
       "      <td>01</td>\n",
       "      <td>1755.0</td>\n",
       "      <td>200901</td>\n",
       "    </tr>\n",
       "    <tr>\n",
       "      <th>3</th>\n",
       "      <td>2009</td>\n",
       "      <td>02</td>\n",
       "      <td>1729.0</td>\n",
       "      <td>200902</td>\n",
       "    </tr>\n",
       "    <tr>\n",
       "      <th>6</th>\n",
       "      <td>2009</td>\n",
       "      <td>03</td>\n",
       "      <td>2256.0</td>\n",
       "      <td>200903</td>\n",
       "    </tr>\n",
       "    <tr>\n",
       "      <th>9</th>\n",
       "      <td>2009</td>\n",
       "      <td>04</td>\n",
       "      <td>2662.0</td>\n",
       "      <td>200904</td>\n",
       "    </tr>\n",
       "    <tr>\n",
       "      <th>12</th>\n",
       "      <td>2009</td>\n",
       "      <td>05</td>\n",
       "      <td>2732.0</td>\n",
       "      <td>200905</td>\n",
       "    </tr>\n",
       "  </tbody>\n",
       "</table>\n",
       "</div>"
      ],
      "text/plain": [
       "    Year Month  Sales(In ThousandDollars)     Y-M\n",
       "0   2009    01                     1755.0  200901\n",
       "3   2009    02                     1729.0  200902\n",
       "6   2009    03                     2256.0  200903\n",
       "9   2009    04                     2662.0  200904\n",
       "12  2009    05                     2732.0  200905"
      ]
     },
     "execution_count": 7,
     "metadata": {},
     "output_type": "execute_result"
    }
   ],
   "source": [
    "temp=WC['Month'].replace([1,2,3,4,5,6,7,8,9,10,11,12],[ '01','02','03','04','05','06','07','08','09','10','11','12'])\n",
    "#print(WC.head())\n",
    "WC['Month']=temp\n",
    "WC['Y-M']=WC['Year'].astype(str)+WC['Month'].astype(str)\n",
    "\n",
    "#WC.drop['Year','Month']\n",
    "WC.head()"
   ]
  },
  {
   "cell_type": "code",
   "execution_count": 8,
   "metadata": {},
   "outputs": [
    {
     "data": {
      "text/html": [
       "<div>\n",
       "<style scoped>\n",
       "    .dataframe tbody tr th:only-of-type {\n",
       "        vertical-align: middle;\n",
       "    }\n",
       "\n",
       "    .dataframe tbody tr th {\n",
       "        vertical-align: top;\n",
       "    }\n",
       "\n",
       "    .dataframe thead th {\n",
       "        text-align: right;\n",
       "    }\n",
       "</style>\n",
       "<table border=\"1\" class=\"dataframe\">\n",
       "  <thead>\n",
       "    <tr style=\"text-align: right;\">\n",
       "      <th></th>\n",
       "      <th>Year</th>\n",
       "      <th>Month</th>\n",
       "      <th>Sales(In ThousandDollars)</th>\n",
       "      <th>Y-M</th>\n",
       "    </tr>\n",
       "  </thead>\n",
       "  <tbody>\n",
       "    <tr>\n",
       "      <th>0</th>\n",
       "      <td>2009</td>\n",
       "      <td>01</td>\n",
       "      <td>1755.0</td>\n",
       "      <td>200901</td>\n",
       "    </tr>\n",
       "    <tr>\n",
       "      <th>3</th>\n",
       "      <td>2009</td>\n",
       "      <td>02</td>\n",
       "      <td>1729.0</td>\n",
       "      <td>200902</td>\n",
       "    </tr>\n",
       "    <tr>\n",
       "      <th>6</th>\n",
       "      <td>2009</td>\n",
       "      <td>03</td>\n",
       "      <td>2256.0</td>\n",
       "      <td>200903</td>\n",
       "    </tr>\n",
       "    <tr>\n",
       "      <th>9</th>\n",
       "      <td>2009</td>\n",
       "      <td>04</td>\n",
       "      <td>2662.0</td>\n",
       "      <td>200904</td>\n",
       "    </tr>\n",
       "    <tr>\n",
       "      <th>12</th>\n",
       "      <td>2009</td>\n",
       "      <td>05</td>\n",
       "      <td>2732.0</td>\n",
       "      <td>200905</td>\n",
       "    </tr>\n",
       "  </tbody>\n",
       "</table>\n",
       "</div>"
      ],
      "text/plain": [
       "    Year Month  Sales(In ThousandDollars)     Y-M\n",
       "0   2009    01                     1755.0  200901\n",
       "3   2009    02                     1729.0  200902\n",
       "6   2009    03                     2256.0  200903\n",
       "9   2009    04                     2662.0  200904\n",
       "12  2009    05                     2732.0  200905"
      ]
     },
     "execution_count": 8,
     "metadata": {},
     "output_type": "execute_result"
    }
   ],
   "source": [
    "WC.head()"
   ]
  },
  {
   "cell_type": "code",
   "execution_count": 9,
   "metadata": {},
   "outputs": [
    {
     "data": {
      "image/png": "[encoded data removed]",
      "text/plain": [
       "<Figure size 432x288 with 1 Axes>"
      ]
     },
     "metadata": {},
     "output_type": "display_data"
    }
   ],
   "source": [
    "plt.scatter(WC['Y-M'].astype(int),WC['Sales(In ThousandDollars)'])\n",
    "plt.plot(WC['Y-M'].astype(int),WC['Sales(In ThousandDollars)'],c='r')\n",
    "plt.show()"
   ]
  },
  {
   "cell_type": "code",
   "execution_count": 10,
   "metadata": {
    "scrolled": true
   },
   "outputs": [
    {
     "data": {
      "image/png": "[encoded data removed]",
      "text/plain": [
       "<Figure size 432x288 with 1 Axes>"
      ]
     },
     "metadata": {},
     "output_type": "display_data"
    }
   ],
   "source": [
    "for each in WC['Year'].unique():\n",
    "    temp=WC[WC['Year']==each]\n",
    "    plt.plot(temp['Month'],temp['Sales(In ThousandDollars)'])\n",
    "plt.gca().legend(WC['Year'].unique())\n",
    "plt.show()"
   ]
  },
  {
   "cell_type": "markdown",
   "metadata": {},
   "source": [
    "# First linear regession  \n",
    "from sklearn.linear_model import LinearRegression \n",
    "from sklearn.metrics import mean_squared_error\n",
    "from sklearn.model_selection import train_test_split\n",
    "WC_y=WC['Sales(In ThousandDollars)']\n",
    "WC_X=WC['Y-M']\n",
    "\n",
    "lm=LinearRegression()\n",
    "\n",
    "X_train,X_test,Y_train,Y_test=train_test_split(WC_X.values.reshape(-1, 1) ,WC_y.values,test_size=0.2)\n",
    "lm.fit(X_train,Y_train)\n",
    "pred_train=lm.predict(X_train)\n",
    "pred_test=lm.predict(X_test)\n",
    "#MSE\n",
    "print('Train MSE=',np.sqrt((np.sum((Y_train - pred_train) ** 2))/len(Y_train)))\n",
    "print('Test MSE=',np.mean((Y_test-pred_test) ** 2))\n",
    "#with only Y-M\n",
    "#Train MSE= 340061.2734387238\n",
    "#Test MSE= 366476.98359972646"
   ]
  },
  {
   "cell_type": "markdown",
   "metadata": {},
   "source": [
    "#SVM\n",
    "from sklearn.svm import SVR\n",
    "clf = SVR( epsilon=0.2)\n",
    "clf.fit(X_train, Y_train) \n",
    "pred_train=clf.predict(X_train)\n",
    "pred_test=clf.predict(X_test)\n",
    "print('Train MSE=',np.mean((Y_train - pred_train) ** 2))\n",
    "print('Test MSE=',np.mean((Y_test-pred_test) ** 2))"
   ]
  },
  {
   "cell_type": "code",
   "execution_count": 11,
   "metadata": {
    "scrolled": true
   },
   "outputs": [],
   "source": [
    "temp=train_d['ProductCategory'].replace(['WomenClothing','MenClothing','OtherClothing'],[1,2,3])\n",
    "train_d['ProductCategory']=temp\n"
   ]
  },
  {
   "cell_type": "code",
   "execution_count": 12,
   "metadata": {
    "scrolled": true
   },
   "outputs": [
    {
     "data": {
      "text/html": [
       "<div>\n",
       "<style scoped>\n",
       "    .dataframe tbody tr th:only-of-type {\n",
       "        vertical-align: middle;\n",
       "    }\n",
       "\n",
       "    .dataframe tbody tr th {\n",
       "        vertical-align: top;\n",
       "    }\n",
       "\n",
       "    .dataframe thead th {\n",
       "        text-align: right;\n",
       "    }\n",
       "</style>\n",
       "<table border=\"1\" class=\"dataframe\">\n",
       "  <thead>\n",
       "    <tr style=\"text-align: right;\">\n",
       "      <th></th>\n",
       "      <th>Year</th>\n",
       "      <th>Month</th>\n",
       "      <th>ProductCategory</th>\n",
       "      <th>Sales(In ThousandDollars)</th>\n",
       "    </tr>\n",
       "  </thead>\n",
       "  <tbody>\n",
       "    <tr>\n",
       "      <th>0</th>\n",
       "      <td>2009</td>\n",
       "      <td>1</td>\n",
       "      <td>1</td>\n",
       "      <td>1755.0</td>\n",
       "    </tr>\n",
       "    <tr>\n",
       "      <th>1</th>\n",
       "      <td>2009</td>\n",
       "      <td>1</td>\n",
       "      <td>2</td>\n",
       "      <td>524.0</td>\n",
       "    </tr>\n",
       "    <tr>\n",
       "      <th>2</th>\n",
       "      <td>2009</td>\n",
       "      <td>1</td>\n",
       "      <td>3</td>\n",
       "      <td>936.0</td>\n",
       "    </tr>\n",
       "    <tr>\n",
       "      <th>3</th>\n",
       "      <td>2009</td>\n",
       "      <td>2</td>\n",
       "      <td>1</td>\n",
       "      <td>1729.0</td>\n",
       "    </tr>\n",
       "    <tr>\n",
       "      <th>4</th>\n",
       "      <td>2009</td>\n",
       "      <td>2</td>\n",
       "      <td>2</td>\n",
       "      <td>496.0</td>\n",
       "    </tr>\n",
       "  </tbody>\n",
       "</table>\n",
       "</div>"
      ],
      "text/plain": [
       "   Year  Month  ProductCategory  Sales(In ThousandDollars)\n",
       "0  2009      1                1                     1755.0\n",
       "1  2009      1                2                      524.0\n",
       "2  2009      1                3                      936.0\n",
       "3  2009      2                1                     1729.0\n",
       "4  2009      2                2                      496.0"
      ]
     },
     "execution_count": 12,
     "metadata": {},
     "output_type": "execute_result"
    }
   ],
   "source": [
    "train_d.head()"
   ]
  },
  {
   "cell_type": "code",
   "execution_count": 13,
   "metadata": {},
   "outputs": [],
   "source": [
    "ally=train_d['Sales(In ThousandDollars)']\n",
    "allx=train_d[['Year','Month','ProductCategory']]"
   ]
  },
  {
   "cell_type": "code",
   "execution_count": 14,
   "metadata": {},
   "outputs": [],
   "source": [
    "X_train,X_test,Y_train,Y_test=train_test_split(allx.values,ally.values,test_size=0.2)\n",
    "#lm.fit(X_train,Y_train)\n",
    "#pred_train=lm.predict(X_train)\n",
    "#pred_test=lm.predict(X_test)\n",
    "#print('Train MSE=',np.mean((Y_train - pred_train) ** 2))\n",
    "#print('Test MSE=',np.mean((Y_test-pred_test) ** 2))"
   ]
  },
  {
   "cell_type": "markdown",
   "metadata": {},
   "source": [
    "# Final Model\n",
    "# 36 models train for each category(3), for each month (12) \n"
   ]
  },
  {
   "cell_type": "code",
   "execution_count": 15,
   "metadata": {},
   "outputs": [
    {
     "data": {
      "image/png": "[encoded data removed]",
      "text/plain": [
       "<Figure size 576x720 with 1 Axes>"
      ]
     },
     "metadata": {},
     "output_type": "display_data"
    }
   ],
   "source": [
    "# in this model we want to seperate month price w.r.t year\n",
    "plt.figure(figsize=(8,10))\n",
    "for each in WC['Month'].unique():\n",
    "    temp=WC[WC['Month']==each]\n",
    "    plt.plot(temp['Year'],temp['Sales(In ThousandDollars)'])\n",
    "plt.gca().legend(WC['Month'].unique())\n",
    "plt.show()\n",
    "#WC.head()"
   ]
  },
  {
   "cell_type": "code",
   "execution_count": 16,
   "metadata": {},
   "outputs": [],
   "source": [
    "# MSE is 214.67151, which is an improvement of your previous score of 227.33504.when nan values are removed.\n",
    "for each in df[df['Sales(In ThousandDollars)'].isnull()].index.values.tolist():\n",
    "    df.loc[each,'Sales(In ThousandDollars)']=0.5*(df.loc[each-3,'Sales(In ThousandDollars)']+df.loc[each+3,'Sales(In ThousandDollars)'])\n"
   ]
  },
  {
   "cell_type": "code",
   "execution_count": 17,
   "metadata": {},
   "outputs": [],
   "source": [
    "#df=df.dropna()\n",
    "df_1=df[df['ProductCategory']=='WomenClothing']\n",
    "df_2=df[df['ProductCategory']=='MenClothing']\n",
    "df_3=df[df['ProductCategory']=='OtherClothing']\n",
    "\n",
    "#max-"
   ]
  },
  {
   "cell_type": "code",
   "execution_count": 18,
   "metadata": {
    "scrolled": true
   },
   "outputs": [],
   "source": [
    "#poly feature 279\n",
    "#RBF=266\n",
    "\n",
    "x_1=[]\n",
    "y_1=[]\n",
    "lr_1=[]\n",
    "for each in range(12):\n",
    "    x_1.append('x'+str(each))\n",
    "    y_1.append('y'+str(each))\n",
    "    lr_1.append('lr'+str(each))\n",
    "\n",
    "for i in range(12):\n",
    "    #print(i)\n",
    "    x_1[i]=df_1[df_1['Month']== i+1]['Year']\n",
    "    y_1[i]=df_1[df_1['Month']== i+1]['Sales(In ThousandDollars)']\n",
    "    #print(x[i].shape)\n",
    "    #lr_1[i]= Pipeline([('poly', PolynomialFeatures(degree=3)),('linear', LinearRegression(fit_intercept=False))])\n",
    "    #lr_1[i]=SVR(kernel='poly', C=1e3, degree=3)\n",
    "    lr_1[i]=SVR(kernel='rbf', C=1e3, gamma=0.1)\n",
    "    lr_1[i].fit(x_1[i].values.reshape(-1,1),y_1[i].values)\n",
    "\n",
    "x_2=[]\n",
    "y_2=[]\n",
    "lr_2=[]\n",
    "for each in range(12):\n",
    "    x_2.append('x'+str(each))\n",
    "    y_2.append('y'+str(each))\n",
    "    lr_2.append('lr'+str(each))\n",
    "\n",
    "for i in range(12):\n",
    "    #print(i)\n",
    "    x_2[i]=df_2[df_2['Month']== i+1]['Year']\n",
    "    y_2[i]=df_2[df_2['Month']== i+1]['Sales(In ThousandDollars)']\n",
    "    #print(x[i].shape)\n",
    "    #lr_2[i]= Pipeline([('poly', PolynomialFeatures(degree=3)),('linear', LinearRegression(fit_intercept=False))])\n",
    "    #svr_rbf = SVR(kernel='rbf', C=1e3, gamma=0.1)\n",
    "    #svr_lin = SVR(kernel='linear', C=1e3)\n",
    "    #lr_2[i] = SVR(kernel='poly', C=1e3, degree=3)\n",
    "    lr_2[i]=SVR(kernel='rbf', C=1e3, gamma=0.1)\n",
    "    lr_2[i].fit(x_2[i].values.reshape(-1,1),y_2[i].values)\n",
    "    \n",
    "x_3=[]\n",
    "y_3=[]\n",
    "lr_3=[]\n",
    "for each in range(12):\n",
    "    x_3.append('x'+str(each))\n",
    "    y_3.append('y'+str(each))\n",
    "    lr_3.append('lr'+str(each))\n",
    "\n",
    "for i in range(12):\n",
    "   # print(i)\n",
    "    x_3[i]=df_3[df_3['Month']== i+1]['Year']\n",
    "    y_3[i]=df_3[df_3['Month']== i+1]['Sales(In ThousandDollars)']\n",
    "    #print(x[i].shape)\n",
    "    #lr_3[i]= Pipeline([('poly', PolynomialFeatures(degree=3)),('linear', LinearRegression(fit_intercept=False))])\n",
    "    #lr_3[i]=SVR(kernel='poly', C=1e3, degree=3)\n",
    "    lr_3[i]=SVR(kernel='rbf', C=1e3, gamma=0.1)\n",
    "    lr_3[i].fit(x_3[i].values.reshape(-1,1),y_3[i].values)\n"
   ]
  },
  {
   "cell_type": "code",
   "execution_count": null,
   "metadata": {},
   "outputs": [],
   "source": []
  },
  {
   "cell_type": "code",
   "execution_count": 19,
   "metadata": {},
   "outputs": [],
   "source": [
    "testdata=pd.read_csv('Test_Kaggle.csv')"
   ]
  },
  {
   "cell_type": "code",
   "execution_count": 20,
   "metadata": {},
   "outputs": [
    {
     "data": {
      "text/html": [
       "<div>\n",
       "<style scoped>\n",
       "    .dataframe tbody tr th:only-of-type {\n",
       "        vertical-align: middle;\n",
       "    }\n",
       "\n",
       "    .dataframe tbody tr th {\n",
       "        vertical-align: top;\n",
       "    }\n",
       "\n",
       "    .dataframe thead th {\n",
       "        text-align: right;\n",
       "    }\n",
       "</style>\n",
       "<table border=\"1\" class=\"dataframe\">\n",
       "  <thead>\n",
       "    <tr style=\"text-align: right;\">\n",
       "      <th></th>\n",
       "      <th>Year</th>\n",
       "      <th>Month</th>\n",
       "      <th>ProductCategory</th>\n",
       "      <th>Sales(In ThousandDollars)</th>\n",
       "    </tr>\n",
       "  </thead>\n",
       "  <tbody>\n",
       "    <tr>\n",
       "      <th>0</th>\n",
       "      <td>2015</td>\n",
       "      <td>1</td>\n",
       "      <td>WomenClothing</td>\n",
       "      <td>NaN</td>\n",
       "    </tr>\n",
       "    <tr>\n",
       "      <th>1</th>\n",
       "      <td>2015</td>\n",
       "      <td>1</td>\n",
       "      <td>MenClothing</td>\n",
       "      <td>NaN</td>\n",
       "    </tr>\n",
       "    <tr>\n",
       "      <th>2</th>\n",
       "      <td>2015</td>\n",
       "      <td>1</td>\n",
       "      <td>OtherClothing</td>\n",
       "      <td>NaN</td>\n",
       "    </tr>\n",
       "    <tr>\n",
       "      <th>3</th>\n",
       "      <td>2015</td>\n",
       "      <td>2</td>\n",
       "      <td>WomenClothing</td>\n",
       "      <td>NaN</td>\n",
       "    </tr>\n",
       "    <tr>\n",
       "      <th>4</th>\n",
       "      <td>2015</td>\n",
       "      <td>2</td>\n",
       "      <td>MenClothing</td>\n",
       "      <td>NaN</td>\n",
       "    </tr>\n",
       "  </tbody>\n",
       "</table>\n",
       "</div>"
      ],
      "text/plain": [
       "   Year  Month ProductCategory  Sales(In ThousandDollars)\n",
       "0  2015      1   WomenClothing                        NaN\n",
       "1  2015      1     MenClothing                        NaN\n",
       "2  2015      1   OtherClothing                        NaN\n",
       "3  2015      2   WomenClothing                        NaN\n",
       "4  2015      2     MenClothing                        NaN"
      ]
     },
     "execution_count": 20,
     "metadata": {},
     "output_type": "execute_result"
    }
   ],
   "source": [
    "testdata.head()\n"
   ]
  },
  {
   "cell_type": "code",
   "execution_count": 21,
   "metadata": {},
   "outputs": [],
   "source": [
    "#testdata.values"
   ]
  },
  {
   "cell_type": "code",
   "execution_count": 22,
   "metadata": {},
   "outputs": [],
   "source": [
    "fil=open('subv_svr_rbf.csv','w')\n",
    "fil.write('Year,Sales(In ThousandDollars)\\n')\n",
    "i=1\n",
    "for each in testdata.values:\n",
    "    if each[2]=='WomenClothing':\n",
    "        fil.write('%d,%d\\n'%(i,lr_1[each[1]-1].predict(each[0])))\n",
    "    if each[2]=='MenClothing':\n",
    "        fil.write('%d,%d\\n'%(i,lr_2[each[1]-1].predict(each[0])))\n",
    "    if each[2]=='OtherClothing':\n",
    "        fil.write('%d,%d\\n'%(i,lr_3[each[1]-1].predict(each[0])))\n",
    "    i=i+1\n",
    "fil.close()"
   ]
  },
  {
   "cell_type": "markdown",
   "metadata": {},
   "source": [
    "s=0\n",
    "for e in range(len(pred)):\n",
    "    s=s+(pred[e]-Y_test[e])**2\n",
    "print(np.sqrt(s/len(pred)))"
   ]
  },
  {
   "cell_type": "code",
   "execution_count": 23,
   "metadata": {},
   "outputs": [
    {
     "data": {
      "text/html": [
       "<div>\n",
       "<style scoped>\n",
       "    .dataframe tbody tr th:only-of-type {\n",
       "        vertical-align: middle;\n",
       "    }\n",
       "\n",
       "    .dataframe tbody tr th {\n",
       "        vertical-align: top;\n",
       "    }\n",
       "\n",
       "    .dataframe thead th {\n",
       "        text-align: right;\n",
       "    }\n",
       "</style>\n",
       "<table border=\"1\" class=\"dataframe\">\n",
       "  <thead>\n",
       "    <tr style=\"text-align: right;\">\n",
       "      <th></th>\n",
       "      <th>Year</th>\n",
       "      <th>Month</th>\n",
       "      <th>Day</th>\n",
       "      <th>Temp high (°C)</th>\n",
       "      <th>Temp avg (°C)</th>\n",
       "      <th>Temp low (°C)</th>\n",
       "      <th>Dew Point high (°C)</th>\n",
       "      <th>Dew Point avg (°C)</th>\n",
       "      <th>Dew Point low (°C)</th>\n",
       "      <th>Humidity (%) high</th>\n",
       "      <th>...</th>\n",
       "      <th>Sea Level Press. (hPa) avg</th>\n",
       "      <th>Sea Level Press. (hPa) low</th>\n",
       "      <th>Visibility (km) high</th>\n",
       "      <th>Visibility (km) avg</th>\n",
       "      <th>Visibility (km) low</th>\n",
       "      <th>Wind (km/h) low</th>\n",
       "      <th>Wind (km/h) avg</th>\n",
       "      <th>Wind (km/h) high</th>\n",
       "      <th>Precip. (mm) sum</th>\n",
       "      <th>WeatherEvent</th>\n",
       "    </tr>\n",
       "  </thead>\n",
       "  <tbody>\n",
       "    <tr>\n",
       "      <th>0</th>\n",
       "      <td>2009</td>\n",
       "      <td>Jan</td>\n",
       "      <td>1</td>\n",
       "      <td>-3</td>\n",
       "      <td>-6</td>\n",
       "      <td>-9</td>\n",
       "      <td>-16</td>\n",
       "      <td>-17</td>\n",
       "      <td>-19</td>\n",
       "      <td>54</td>\n",
       "      <td>...</td>\n",
       "      <td>1023</td>\n",
       "      <td>1015</td>\n",
       "      <td>16</td>\n",
       "      <td>16</td>\n",
       "      <td>16</td>\n",
       "      <td>37</td>\n",
       "      <td>18</td>\n",
       "      <td>60</td>\n",
       "      <td>0</td>\n",
       "      <td>NaN</td>\n",
       "    </tr>\n",
       "    <tr>\n",
       "      <th>1</th>\n",
       "      <td>2009</td>\n",
       "      <td>Jan</td>\n",
       "      <td>2</td>\n",
       "      <td>1</td>\n",
       "      <td>-2</td>\n",
       "      <td>-5</td>\n",
       "      <td>-3</td>\n",
       "      <td>-7</td>\n",
       "      <td>-17</td>\n",
       "      <td>78</td>\n",
       "      <td>...</td>\n",
       "      <td>1012</td>\n",
       "      <td>1007</td>\n",
       "      <td>16</td>\n",
       "      <td>13</td>\n",
       "      <td>2</td>\n",
       "      <td>27</td>\n",
       "      <td>10</td>\n",
       "      <td>48</td>\n",
       "      <td>T</td>\n",
       "      <td>Snow</td>\n",
       "    </tr>\n",
       "    <tr>\n",
       "      <th>2</th>\n",
       "      <td>2009</td>\n",
       "      <td>Jan</td>\n",
       "      <td>3</td>\n",
       "      <td>3</td>\n",
       "      <td>1</td>\n",
       "      <td>-2</td>\n",
       "      <td>-5</td>\n",
       "      <td>-9</td>\n",
       "      <td>-13</td>\n",
       "      <td>72</td>\n",
       "      <td>...</td>\n",
       "      <td>1015</td>\n",
       "      <td>1008</td>\n",
       "      <td>16</td>\n",
       "      <td>16</td>\n",
       "      <td>16</td>\n",
       "      <td>27</td>\n",
       "      <td>16</td>\n",
       "      <td>42</td>\n",
       "      <td>T</td>\n",
       "      <td>NaN</td>\n",
       "    </tr>\n",
       "    <tr>\n",
       "      <th>3</th>\n",
       "      <td>2009</td>\n",
       "      <td>Jan</td>\n",
       "      <td>4</td>\n",
       "      <td>6</td>\n",
       "      <td>1</td>\n",
       "      <td>-4</td>\n",
       "      <td>-10</td>\n",
       "      <td>-12</td>\n",
       "      <td>-13</td>\n",
       "      <td>55</td>\n",
       "      <td>...</td>\n",
       "      <td>1017</td>\n",
       "      <td>1015</td>\n",
       "      <td>16</td>\n",
       "      <td>16</td>\n",
       "      <td>16</td>\n",
       "      <td>32</td>\n",
       "      <td>12</td>\n",
       "      <td>40</td>\n",
       "      <td>0</td>\n",
       "      <td>NaN</td>\n",
       "    </tr>\n",
       "    <tr>\n",
       "      <th>4</th>\n",
       "      <td>2009</td>\n",
       "      <td>Jan</td>\n",
       "      <td>5</td>\n",
       "      <td>6</td>\n",
       "      <td>5</td>\n",
       "      <td>3</td>\n",
       "      <td>-1</td>\n",
       "      <td>-5</td>\n",
       "      <td>-16</td>\n",
       "      <td>62</td>\n",
       "      <td>...</td>\n",
       "      <td>1014</td>\n",
       "      <td>1013</td>\n",
       "      <td>16</td>\n",
       "      <td>16</td>\n",
       "      <td>16</td>\n",
       "      <td>23</td>\n",
       "      <td>11</td>\n",
       "      <td>34</td>\n",
       "      <td>T</td>\n",
       "      <td>NaN</td>\n",
       "    </tr>\n",
       "  </tbody>\n",
       "</table>\n",
       "<p>5 rows × 23 columns</p>\n",
       "</div>"
      ],
      "text/plain": [
       "   Year Month  Day  Temp high (°C)  Temp avg (°C)  Temp low (°C)  \\\n",
       "0  2009   Jan    1              -3             -6             -9   \n",
       "1  2009   Jan    2               1             -2             -5   \n",
       "2  2009   Jan    3               3              1             -2   \n",
       "3  2009   Jan    4               6              1             -4   \n",
       "4  2009   Jan    5               6              5              3   \n",
       "\n",
       "   Dew Point high (°C)  Dew Point avg (°C)  Dew Point low (°C)  \\\n",
       "0                  -16                 -17                 -19   \n",
       "1                   -3                  -7                 -17   \n",
       "2                   -5                  -9                 -13   \n",
       "3                  -10                 -12                 -13   \n",
       "4                   -1                  -5                 -16   \n",
       "\n",
       "   Humidity (%) high      ...       Sea Level Press. (hPa) avg  \\\n",
       "0                 54      ...                             1023   \n",
       "1                 78      ...                             1012   \n",
       "2                 72      ...                             1015   \n",
       "3                 55      ...                             1017   \n",
       "4                 62      ...                             1014   \n",
       "\n",
       "   Sea Level Press. (hPa) low  Visibility (km) high  Visibility (km) avg  \\\n",
       "0                        1015                    16                   16   \n",
       "1                        1007                    16                   13   \n",
       "2                        1008                    16                   16   \n",
       "3                        1015                    16                   16   \n",
       "4                        1013                    16                   16   \n",
       "\n",
       "   Visibility (km) low  Wind (km/h) low  Wind (km/h) avg  Wind (km/h) high  \\\n",
       "0                   16               37               18                60   \n",
       "1                    2               27               10                48   \n",
       "2                   16               27               16                42   \n",
       "3                   16               32               12                40   \n",
       "4                   16               23               11                34   \n",
       "\n",
       "   Precip. (mm) sum  WeatherEvent  \n",
       "0                 0           NaN  \n",
       "1                 T          Snow  \n",
       "2                 T           NaN  \n",
       "3                 0           NaN  \n",
       "4                 T           NaN  \n",
       "\n",
       "[5 rows x 23 columns]"
      ]
     },
     "execution_count": 23,
     "metadata": {},
     "output_type": "execute_result"
    }
   ],
   "source": [
    "weather_d=pd.read_csv('Weather_Data_Head.csv')\n",
    "weather_d\n",
    "#weather_d.tail()"
   ]
  },
  {
   "cell_type": "markdown",
   "metadata": {},
   "source": [
    "events_d=pd.read_csv('Event_Holiday_Head.csv')\n",
    "events_d"
   ]
  },
  {
   "cell_type": "markdown",
   "metadata": {},
   "source": [
    "macro_d=pd.read_csv('MacroEconomic_Data_Head.csv')\n",
    "macro_d"
   ]
  },
  {
   "cell_type": "markdown",
   "metadata": {},
   "source": [
    "#attri=pd.read_excel('AttributesDescription.xlsx')"
   ]
  },
  {
   "cell_type": "code",
   "execution_count": null,
   "metadata": {},
   "outputs": [],
   "source": []
  }
 ],
 "metadata": {
  "kernelspec": {
   "display_name": "Python 3",
   "language": "python",
   "name": "python3"
  },
  "language_info": {
   "codemirror_mode": {
    "name": "ipython",
    "version": 3
   },
   "file_extension": ".py",
   "mimetype": "text/x-python",
   "name": "python",
   "nbconvert_exporter": "python",
   "pygments_lexer": "ipython3",
   "version": "3.6.5"
  }
 },
 "nbformat": 4,
 "nbformat_minor": 2
}
